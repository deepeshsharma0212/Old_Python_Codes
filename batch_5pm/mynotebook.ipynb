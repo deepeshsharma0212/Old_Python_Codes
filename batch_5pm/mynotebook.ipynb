{
 "cells": [
  {
   "cell_type": "code",
   "execution_count": 1,
   "metadata": {},
   "outputs": [
    {
     "name": "stdout",
     "output_type": "stream",
     "text": [
      "15     92739293913928\n"
     ]
    }
   ],
   "source": [
    "x = 15\n",
    "y = 92739293913928\n",
    "print(x,y,sep='     ')"
   ]
  },
  {
   "cell_type": "code",
   "execution_count": 2,
   "metadata": {},
   "outputs": [
    {
     "name": "stdout",
     "output_type": "stream",
     "text": [
      "Help on built-in function print in module builtins:\n",
      "\n",
      "print(...)\n",
      "    print(value, ..., sep=' ', end='\\n', file=sys.stdout, flush=False)\n",
      "    \n",
      "    Prints the values to a stream, or to sys.stdout by default.\n",
      "    Optional keyword arguments:\n",
      "    file:  a file-like object (stream); defaults to the current sys.stdout.\n",
      "    sep:   string inserted between values, default a space.\n",
      "    end:   string appended after the last value, default a newline.\n",
      "    flush: whether to forcibly flush the stream.\n",
      "\n"
     ]
    }
   ],
   "source": [
    "help(print)"
   ]
  },
  {
   "cell_type": "markdown",
   "metadata": {},
   "source": [
    "# Basic Commands"
   ]
  },
  {
   "cell_type": "markdown",
   "metadata": {},
   "source": [
    "python is awesome"
   ]
  },
  {
   "cell_type": "markdown",
   "metadata": {},
   "source": [
    "# I am Heading one\n",
    "## I am heading two\n",
    "### I am heading threee\n",
    "i am without any thing"
   ]
  },
  {
   "cell_type": "raw",
   "metadata": {},
   "source": [
    "hello\n",
    "        hi python is interpretedw\n",
    "we learn about print function and input function that is \n",
    "                very easy"
   ]
  },
  {
   "cell_type": "code",
   "execution_count": 4,
   "metadata": {},
   "outputs": [
    {
     "name": "stdout",
     "output_type": "stream",
     "text": [
      "hello\n"
     ]
    }
   ],
   "source": [
    "print(\"hello\")"
   ]
  },
  {
   "cell_type": "markdown",
   "metadata": {},
   "source": [
    "<h1 style='color:red'><b>Hello World Welcome to python</b></h1>"
   ]
  },
  {
   "cell_type": "code",
   "execution_count": 5,
   "metadata": {},
   "outputs": [],
   "source": [
    "import matplotlib.pyplot as plt\n",
    "import numpy as np"
   ]
  },
  {
   "cell_type": "code",
   "execution_count": 13,
   "metadata": {},
   "outputs": [],
   "source": [
    "x = np.arange(0,361)"
   ]
  },
  {
   "cell_type": "code",
   "execution_count": 15,
   "metadata": {},
   "outputs": [
    {
     "name": "stdout",
     "output_type": "stream",
     "text": [
      "[0.         0.01745329 0.03490659 0.05235988 0.06981317 0.08726646\n",
      " 0.10471976 0.12217305 0.13962634 0.15707963 0.17453293 0.19198622\n",
      " 0.20943951 0.2268928  0.2443461  0.26179939 0.27925268 0.29670597\n",
      " 0.31415927 0.33161256 0.34906585 0.36651914 0.38397244 0.40142573\n",
      " 0.41887902 0.43633231 0.45378561 0.4712389  0.48869219 0.50614548\n",
      " 0.52359878 0.54105207 0.55850536 0.57595865 0.59341195 0.61086524\n",
      " 0.62831853 0.64577182 0.66322512 0.68067841 0.6981317  0.71558499\n",
      " 0.73303829 0.75049158 0.76794487 0.78539816 0.80285146 0.82030475\n",
      " 0.83775804 0.85521133 0.87266463 0.89011792 0.90757121 0.9250245\n",
      " 0.9424778  0.95993109 0.97738438 0.99483767 1.01229097 1.02974426\n",
      " 1.04719755 1.06465084 1.08210414 1.09955743 1.11701072 1.13446401\n",
      " 1.15191731 1.1693706  1.18682389 1.20427718 1.22173048 1.23918377\n",
      " 1.25663706 1.27409035 1.29154365 1.30899694 1.32645023 1.34390352\n",
      " 1.36135682 1.37881011 1.3962634  1.41371669 1.43116999 1.44862328\n",
      " 1.46607657 1.48352986 1.50098316 1.51843645 1.53588974 1.55334303\n",
      " 1.57079633 1.58824962 1.60570291 1.6231562  1.6406095  1.65806279\n",
      " 1.67551608 1.69296937 1.71042267 1.72787596 1.74532925 1.76278254\n",
      " 1.78023584 1.79768913 1.81514242 1.83259571 1.85004901 1.8675023\n",
      " 1.88495559 1.90240888 1.91986218 1.93731547 1.95476876 1.97222205\n",
      " 1.98967535 2.00712864 2.02458193 2.04203522 2.05948852 2.07694181\n",
      " 2.0943951  2.11184839 2.12930169 2.14675498 2.16420827 2.18166156\n",
      " 2.19911486 2.21656815 2.23402144 2.25147474 2.26892803 2.28638132\n",
      " 2.30383461 2.32128791 2.3387412  2.35619449 2.37364778 2.39110108\n",
      " 2.40855437 2.42600766 2.44346095 2.46091425 2.47836754 2.49582083\n",
      " 2.51327412 2.53072742 2.54818071 2.565634   2.58308729 2.60054059\n",
      " 2.61799388 2.63544717 2.65290046 2.67035376 2.68780705 2.70526034\n",
      " 2.72271363 2.74016693 2.75762022 2.77507351 2.7925268  2.8099801\n",
      " 2.82743339 2.84488668 2.86233997 2.87979327 2.89724656 2.91469985\n",
      " 2.93215314 2.94960644 2.96705973 2.98451302 3.00196631 3.01941961\n",
      " 3.0368729  3.05432619 3.07177948 3.08923278 3.10668607 3.12413936\n",
      " 3.14159265 3.15904595 3.17649924 3.19395253 3.21140582 3.22885912\n",
      " 3.24631241 3.2637657  3.28121899 3.29867229 3.31612558 3.33357887\n",
      " 3.35103216 3.36848546 3.38593875 3.40339204 3.42084533 3.43829863\n",
      " 3.45575192 3.47320521 3.4906585  3.5081118  3.52556509 3.54301838\n",
      " 3.56047167 3.57792497 3.59537826 3.61283155 3.63028484 3.64773814\n",
      " 3.66519143 3.68264472 3.70009801 3.71755131 3.7350046  3.75245789\n",
      " 3.76991118 3.78736448 3.80481777 3.82227106 3.83972435 3.85717765\n",
      " 3.87463094 3.89208423 3.90953752 3.92699082 3.94444411 3.9618974\n",
      " 3.97935069 3.99680399 4.01425728 4.03171057 4.04916386 4.06661716\n",
      " 4.08407045 4.10152374 4.11897703 4.13643033 4.15388362 4.17133691\n",
      " 4.1887902  4.2062435  4.22369679 4.24115008 4.25860337 4.27605667\n",
      " 4.29350996 4.31096325 4.32841654 4.34586984 4.36332313 4.38077642\n",
      " 4.39822972 4.41568301 4.4331363  4.45058959 4.46804289 4.48549618\n",
      " 4.50294947 4.52040276 4.53785606 4.55530935 4.57276264 4.59021593\n",
      " 4.60766923 4.62512252 4.64257581 4.6600291  4.6774824  4.69493569\n",
      " 4.71238898 4.72984227 4.74729557 4.76474886 4.78220215 4.79965544\n",
      " 4.81710874 4.83456203 4.85201532 4.86946861 4.88692191 4.9043752\n",
      " 4.92182849 4.93928178 4.95673508 4.97418837 4.99164166 5.00909495\n",
      " 5.02654825 5.04400154 5.06145483 5.07890812 5.09636142 5.11381471\n",
      " 5.131268   5.14872129 5.16617459 5.18362788 5.20108117 5.21853446\n",
      " 5.23598776 5.25344105 5.27089434 5.28834763 5.30580093 5.32325422\n",
      " 5.34070751 5.3581608  5.3756141  5.39306739 5.41052068 5.42797397\n",
      " 5.44542727 5.46288056 5.48033385 5.49778714 5.51524044 5.53269373\n",
      " 5.55014702 5.56760031 5.58505361 5.6025069  5.61996019 5.63741348\n",
      " 5.65486678 5.67232007 5.68977336 5.70722665 5.72467995 5.74213324\n",
      " 5.75958653 5.77703982 5.79449312 5.81194641 5.8293997  5.84685299\n",
      " 5.86430629 5.88175958 5.89921287 5.91666616 5.93411946 5.95157275\n",
      " 5.96902604 5.98647933 6.00393263 6.02138592 6.03883921 6.0562925\n",
      " 6.0737458  6.09119909 6.10865238 6.12610567 6.14355897 6.16101226\n",
      " 6.17846555 6.19591884 6.21337214 6.23082543 6.24827872 6.26573201\n",
      " 6.28318531]\n"
     ]
    }
   ],
   "source": [
    "x = x*np.pi\n",
    "x = x/180\n",
    "print(x)"
   ]
  },
  {
   "cell_type": "code",
   "execution_count": 17,
   "metadata": {},
   "outputs": [],
   "source": [
    "sin = np.sin(x)\n",
    "cos = np.cos(x)"
   ]
  },
  {
   "cell_type": "code",
   "execution_count": 19,
   "metadata": {},
   "outputs": [],
   "source": [
    "values = np.arange(0,361)"
   ]
  },
  {
   "cell_type": "code",
   "execution_count": 23,
   "metadata": {},
   "outputs": [
    {
     "data": {
      "image/png": "[encoded data removed]",
      "text/plain": [
       "<Figure size 432x288 with 1 Axes>"
      ]
     },
     "metadata": {},
     "output_type": "display_data"
    }
   ],
   "source": [
    "plt.plot(values,sin)\n",
    "plt.plot(values,cos,'r:')\n",
    "plt.show()\n"
   ]
  },
  {
   "cell_type": "code",
   "execution_count": 24,
   "metadata": {},
   "outputs": [],
   "source": [
    "x = np.random.normal(50,20,10000)"
   ]
  },
  {
   "cell_type": "code",
   "execution_count": 25,
   "metadata": {},
   "outputs": [
    {
     "name": "stdout",
     "output_type": "stream",
     "text": [
      "[62.99290622 81.17949395 50.60812268 ... 39.79085653 44.28183343\n",
      " 39.55810625]\n"
     ]
    }
   ],
   "source": [
    "print(x)"
   ]
  },
  {
   "cell_type": "code",
   "execution_count": 26,
   "metadata": {},
   "outputs": [
    {
     "data": {
      "text/plain": [
       "10000"
      ]
     },
     "execution_count": 26,
     "metadata": {},
     "output_type": "execute_result"
    }
   ],
   "source": [
    "len(x)"
   ]
  },
  {
   "cell_type": "code",
   "execution_count": 27,
   "metadata": {},
   "outputs": [
    {
     "data": {
      "image/png": "[encoded data removed]",
      "text/plain": [
       "<Figure size 432x288 with 1 Axes>"
      ]
     },
     "metadata": {},
     "output_type": "display_data"
    }
   ],
   "source": [
    "plt.hist(x,60)\n",
    "plt.show()"
   ]
  },
  {
   "cell_type": "code",
   "execution_count": 28,
   "metadata": {},
   "outputs": [
    {
     "data": {
      "text/plain": [
       "49.996118896958755"
      ]
     },
     "execution_count": 28,
     "metadata": {},
     "output_type": "execute_result"
    }
   ],
   "source": [
    "np.mean(x)"
   ]
  },
  {
   "cell_type": "code",
   "execution_count": 1,
   "metadata": {},
   "outputs": [
    {
     "name": "stdout",
     "output_type": "stream",
     "text": [
      "I can print anything here\n"
     ]
    }
   ],
   "source": [
    "print(\"I can print anything here\")"
   ]
  },
  {
   "cell_type": "code",
   "execution_count": 2,
   "metadata": {},
   "outputs": [
    {
     "name": "stdout",
     "output_type": "stream",
     "text": [
      "\t!!!What the hack ??\n",
      "\t!!!What the hack ??\n",
      "\t!!!What the hack ??\n",
      "\t!!!What the hack ??\n",
      "\t!!!What the hack ??\n",
      "\t!!!What the hack ??\n",
      "\t!!!What the hack ??\n",
      "\t!!!What the hack ??\n",
      "\t!!!What the hack ??\n",
      "\t!!!What the hack ??\n"
     ]
    }
   ],
   "source": [
    "for var in range(10):\n",
    "    print(\"\\t!!!What the hack ??\")"
   ]
  },
  {
   "cell_type": "code",
   "execution_count": null,
   "metadata": {},
   "outputs": [],
   "source": []
  }
 ],
 "metadata": {
  "kernelspec": {
   "display_name": "Python 3",
   "language": "python",
   "name": "python3"
  },
  "language_info": {
   "codemirror_mode": {
    "name": "ipython",
    "version": 3
   },
   "file_extension": ".py",
   "mimetype": "text/x-python",
   "name": "python",
   "nbconvert_exporter": "python",
   "pygments_lexer": "ipython3",
   "version": "3.6.5"
  }
 },
 "nbformat": 4,
 "nbformat_minor": 2
}
